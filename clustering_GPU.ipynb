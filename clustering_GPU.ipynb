{
 "cells": [
  {
   "cell_type": "code",
   "execution_count": 6,
   "metadata": {},
   "outputs": [
    {
     "name": "stdout",
     "output_type": "stream",
     "text": [
      "The autoreload extension is already loaded. To reload it, use:\n",
      "  %reload_ext autoreload\n"
     ]
    }
   ],
   "source": [
    "%load_ext autoreload\n",
    "%autoreload 2\n",
    "\n",
    "from utils_GPU import *"
   ]
  },
  {
   "cell_type": "code",
   "execution_count": 7,
   "metadata": {},
   "outputs": [],
   "source": [
    "import pandas as pd\n",
    "import numpy as np"
   ]
  },
  {
   "cell_type": "code",
   "execution_count": 8,
   "metadata": {},
   "outputs": [],
   "source": [
    "# %store -r df_group1"
   ]
  },
  {
   "cell_type": "code",
   "execution_count": 9,
   "metadata": {},
   "outputs": [],
   "source": [
    "# df_group1.to_csv('data.csv')"
   ]
  },
  {
   "cell_type": "code",
   "execution_count": 10,
   "metadata": {},
   "outputs": [],
   "source": [
    "selected_domain_features = {\n",
    "    # 'behavioral': [\n",
    "    #     'digital_share',\n",
    "    #     'lifetime',\n",
    "    #     'sale_share',\n",
    "    #     'cash_out_share',\n",
    "    #     'other_share',\n",
    "    #     'other_bank_share',\n",
    "    #     'p2p_share',\n",
    "    #     'NumberOfWorkplaces',\n",
    "    #     'NumberOfPositions',\n",
    "    #     'NumberOfSectors',\n",
    "    #     'WorkExperience',\n",
    "    #     'SwitchisClassQuantity_arca',\n",
    "    #     'TheWorstClassLoan_arca',\n",
    "    #     'RequestQuantity30_arca',\n",
    "    #     'RequestQuantity365_arca',\n",
    "    #     'NewLoanRequestQuantity365_arca',\n",
    "    #     'ActiveCreditBankCount_arca',\n",
    "    #     'MonthsUntilLastCreditCompletion_arca',\n",
    "    #     'missed_calls_avg',\n",
    "    #     'answered_calls_avg',\n",
    "    #     'call_duration_min'\n",
    "    #     ],\n",
    "  \n",
    "    # 'product': [\n",
    "    #     'salary_project',\n",
    "    #     'ActiveOtherLoansCount_arca',\n",
    "    #     'ActiveCardLoansCount_arca',\n",
    "    #     'ActiveLoansCount_arca',\n",
    "    #     'TotalActiveLoansAmount_arca',\n",
    "    #     'Consumer Finance',\n",
    "    #     'Card_loan',\n",
    "    #     'Consumer_loan',\n",
    "    #     'Card',\n",
    "    #     'Deposit',\n",
    "    #     'Saving account',\n",
    "    #     'had_cf',\n",
    "    #     'had_consumer_loan',\n",
    "    #     'have_brok_account',\n",
    "    #     'avg_credit_amount',\n",
    "    #     'avg_debit_amount'\n",
    "       \n",
    "    #     ],\n",
    "    \n",
    "     'finance': [\n",
    "        'Cash-non_cash_commission_income',\n",
    "        'Commission_from_transfers_income',\n",
    "        'Commissions_from_Cards_income',\n",
    "        'Consumer_Finance_income',\n",
    "        'Demand_Deposits_income',\n",
    "        'FX_Income_income',\n",
    "        'Other_Commissions_income',\n",
    "        'Personal_unsecured_loans_income',\n",
    "        'Plastic_Cards_income',\n",
    "        'Time_Deposits_income',\n",
    "        'Bonds_portfolio',\n",
    "        'Time Deposits_portfolio',\n",
    "        # 'Investment loans_Portfolio',\n",
    "        'Other Loans_Portfolio',\n",
    "        'Personal Loans_Portfolio',\n",
    "        'Plastic Cards_Portfolio',\n",
    "        'avg_balance',\n",
    "                 ],\n",
    "    \n",
    "     'personal': [\n",
    "        'age',\n",
    "        'GENDER_TYPE',\n",
    "        'MARITAL_STATUS_1',\n",
    "        'MARITAL_STATUS_2',\n",
    "        'MARITAL_STATUS_3',\n",
    "       \n",
    "         ], \n",
    "     # 'trans': [\n",
    "     #    'number_ATM  Cash In',|\n",
    "     #    'number_ATM  Cash Out',\n",
    "     #    'number_ATM Cash Out',\n",
    "     #    'number_Cash In',\n",
    "     #    'number_Cash Out',\n",
    "     #    'number_Currency Exchange',\n",
    "     #    'number_Currency Exchange Cash',\n",
    "     #    'number_Loan Repayment',\n",
    "     #    'number_Payment Order Budget',\n",
    "     #    'number_Payment Order Other Bank',\n",
    "     #    'number_Payment Order Our Bank',\n",
    "     #    'number_Payment Order Own Account',\n",
    "     #    'number_Transfer to card',\n",
    "     #    'number_Utility payment',\n",
    "     #    'avg_ATM  Cash In',\n",
    "     #    'avg_ATM  Cash Out',\n",
    "     #    'avg_ATM Cash Out',\n",
    "     #    'avg_Cash In',\n",
    "     #    'avg_Cash Out',\n",
    "     #    'avg_Currency Exchange',\n",
    "     #    'avg_Loan Repayment',\n",
    "     #    # 'avg_Loan Repayment Cash',\n",
    "     #    'avg_Payment Order Budget',\n",
    "     #    'avg_Payment Order Other Bank',\n",
    "     #    'avg_Payment Order Our Bank',\n",
    "     #    'avg_Payment Order Own Account',\n",
    "     #    'avg_Transfer to card',\n",
    "     #    'avg_Utility payment',\n",
    "     #    'sum_4121',\n",
    "     #    'sum_5172',\n",
    "     #    'sum_5311',\n",
    "     #    'sum_5331',\n",
    "     #    'sum_5411',\n",
    "     #    'sum_5462',\n",
    "     #    'sum_5499',\n",
    "     #    'sum_5651',\n",
    "     #    'sum_5691',\n",
    "     #    'sum_5722',\n",
    "     #    'sum_5812',\n",
    "     #    'sum_5814',\n",
    "     #    'sum_5912',\n",
    "     #    'sum_6012',\n",
    "     #    'avg_4121',\n",
    "     #    'avg_5172',\n",
    "     #    'avg_5311',\n",
    "     #    'avg_5331',\n",
    "     #    'avg_5411',\n",
    "     #    'avg_5462',\n",
    "     #    'avg_5499',\n",
    "     #    'avg_5651',\n",
    "     #    'avg_5691',\n",
    "     #    'avg_5722',\n",
    "     #    'avg_5812',\n",
    "     #    'avg_5814',\n",
    "     #    'avg_5912',\n",
    "     #    'avg_6012',\n",
    "     #    'number_4121',\n",
    "     #    'number_5172',\n",
    "     #    'number_5311',\n",
    "     #    'number_5331',\n",
    "     #    'number_5411',\n",
    "     #    'number_5462',\n",
    "     #    'number_5499',\n",
    "     #    'number_5651',\n",
    "     #    'number_5691',\n",
    "     #    'number_5722',\n",
    "     #    'number_5812',\n",
    "     #    'number_5814',\n",
    "     #    'number_5912',\n",
    "     #    'number_6012'\n",
    "     #     ]\n",
    "}"
   ]
  },
  {
   "cell_type": "code",
   "execution_count": 11,
   "metadata": {},
   "outputs": [
    {
     "data": {
      "text/html": [
       "<div>\n",
       "<style scoped>\n",
       "    .dataframe tbody tr th:only-of-type {\n",
       "        vertical-align: middle;\n",
       "    }\n",
       "\n",
       "    .dataframe tbody tr th {\n",
       "        vertical-align: top;\n",
       "    }\n",
       "\n",
       "    .dataframe thead th {\n",
       "        text-align: right;\n",
       "    }\n",
       "</style>\n",
       "<table border=\"1\" class=\"dataframe\">\n",
       "  <thead>\n",
       "    <tr style=\"text-align: right;\">\n",
       "      <th></th>\n",
       "      <th>CODE</th>\n",
       "      <th>sale_share</th>\n",
       "      <th>cash_out_share</th>\n",
       "      <th>other_share</th>\n",
       "      <th>other_bank_share</th>\n",
       "      <th>p2p_share</th>\n",
       "      <th>salary_project</th>\n",
       "      <th>Cash-non_cash_commission_income</th>\n",
       "      <th>Commission_from_transfers_income</th>\n",
       "      <th>Commissions_from_Cards_income</th>\n",
       "      <th>...</th>\n",
       "      <th>number_5812</th>\n",
       "      <th>number_5814</th>\n",
       "      <th>number_5912</th>\n",
       "      <th>number_6012</th>\n",
       "      <th>lifetime</th>\n",
       "      <th>salary</th>\n",
       "      <th>MARITAL_STATUS_1</th>\n",
       "      <th>MARITAL_STATUS_2</th>\n",
       "      <th>MARITAL_STATUS_3</th>\n",
       "      <th>Total_income</th>\n",
       "    </tr>\n",
       "  </thead>\n",
       "  <tbody>\n",
       "    <tr>\n",
       "      <th>0</th>\n",
       "      <td>10641</td>\n",
       "      <td>0.798743</td>\n",
       "      <td>0.201257</td>\n",
       "      <td>0.000000</td>\n",
       "      <td>0.000000</td>\n",
       "      <td>0.000000</td>\n",
       "      <td>3</td>\n",
       "      <td>0.0</td>\n",
       "      <td>0.0</td>\n",
       "      <td>835.6100</td>\n",
       "      <td>...</td>\n",
       "      <td>0.0</td>\n",
       "      <td>0.0</td>\n",
       "      <td>1.0</td>\n",
       "      <td>0.0</td>\n",
       "      <td>16</td>\n",
       "      <td>88500</td>\n",
       "      <td>True</td>\n",
       "      <td>False</td>\n",
       "      <td>False</td>\n",
       "      <td>1371.786105</td>\n",
       "    </tr>\n",
       "    <tr>\n",
       "      <th>1</th>\n",
       "      <td>11048</td>\n",
       "      <td>0.320032</td>\n",
       "      <td>0.347666</td>\n",
       "      <td>0.000000</td>\n",
       "      <td>0.271597</td>\n",
       "      <td>0.060705</td>\n",
       "      <td>3</td>\n",
       "      <td>0.0</td>\n",
       "      <td>0.0</td>\n",
       "      <td>367.7600</td>\n",
       "      <td>...</td>\n",
       "      <td>0.0</td>\n",
       "      <td>0.0</td>\n",
       "      <td>0.0</td>\n",
       "      <td>0.0</td>\n",
       "      <td>11</td>\n",
       "      <td>76589</td>\n",
       "      <td>True</td>\n",
       "      <td>False</td>\n",
       "      <td>False</td>\n",
       "      <td>14842.275266</td>\n",
       "    </tr>\n",
       "    <tr>\n",
       "      <th>2</th>\n",
       "      <td>11368</td>\n",
       "      <td>0.234148</td>\n",
       "      <td>0.437444</td>\n",
       "      <td>0.270839</td>\n",
       "      <td>0.032193</td>\n",
       "      <td>0.025376</td>\n",
       "      <td>3</td>\n",
       "      <td>0.0</td>\n",
       "      <td>45.0</td>\n",
       "      <td>2288.4262</td>\n",
       "      <td>...</td>\n",
       "      <td>15.0</td>\n",
       "      <td>4.0</td>\n",
       "      <td>9.0</td>\n",
       "      <td>0.0</td>\n",
       "      <td>24</td>\n",
       "      <td>334879</td>\n",
       "      <td>False</td>\n",
       "      <td>True</td>\n",
       "      <td>False</td>\n",
       "      <td>36080.186387</td>\n",
       "    </tr>\n",
       "    <tr>\n",
       "      <th>3</th>\n",
       "      <td>11787</td>\n",
       "      <td>0.279847</td>\n",
       "      <td>0.408230</td>\n",
       "      <td>0.081847</td>\n",
       "      <td>0.004348</td>\n",
       "      <td>0.225727</td>\n",
       "      <td>3</td>\n",
       "      <td>0.0</td>\n",
       "      <td>3315.2</td>\n",
       "      <td>6913.1894</td>\n",
       "      <td>...</td>\n",
       "      <td>6.0</td>\n",
       "      <td>7.0</td>\n",
       "      <td>3.0</td>\n",
       "      <td>0.0</td>\n",
       "      <td>16</td>\n",
       "      <td>385000</td>\n",
       "      <td>True</td>\n",
       "      <td>False</td>\n",
       "      <td>False</td>\n",
       "      <td>98573.743919</td>\n",
       "    </tr>\n",
       "    <tr>\n",
       "      <th>4</th>\n",
       "      <td>12988</td>\n",
       "      <td>1.000000</td>\n",
       "      <td>0.000000</td>\n",
       "      <td>0.000000</td>\n",
       "      <td>0.000000</td>\n",
       "      <td>0.000000</td>\n",
       "      <td>2</td>\n",
       "      <td>0.0</td>\n",
       "      <td>0.0</td>\n",
       "      <td>70000.0000</td>\n",
       "      <td>...</td>\n",
       "      <td>0.0</td>\n",
       "      <td>0.0</td>\n",
       "      <td>0.0</td>\n",
       "      <td>0.0</td>\n",
       "      <td>16</td>\n",
       "      <td>100000</td>\n",
       "      <td>True</td>\n",
       "      <td>False</td>\n",
       "      <td>False</td>\n",
       "      <td>71607.284518</td>\n",
       "    </tr>\n",
       "  </tbody>\n",
       "</table>\n",
       "<p>5 rows × 132 columns</p>\n",
       "</div>"
      ],
      "text/plain": [
       "    CODE  sale_share  cash_out_share  other_share  other_bank_share  \\\n",
       "0  10641    0.798743        0.201257     0.000000          0.000000   \n",
       "1  11048    0.320032        0.347666     0.000000          0.271597   \n",
       "2  11368    0.234148        0.437444     0.270839          0.032193   \n",
       "3  11787    0.279847        0.408230     0.081847          0.004348   \n",
       "4  12988    1.000000        0.000000     0.000000          0.000000   \n",
       "\n",
       "   p2p_share  salary_project  Cash-non_cash_commission_income  \\\n",
       "0   0.000000               3                              0.0   \n",
       "1   0.060705               3                              0.0   \n",
       "2   0.025376               3                              0.0   \n",
       "3   0.225727               3                              0.0   \n",
       "4   0.000000               2                              0.0   \n",
       "\n",
       "   Commission_from_transfers_income  Commissions_from_Cards_income  ...  \\\n",
       "0                               0.0                       835.6100  ...   \n",
       "1                               0.0                       367.7600  ...   \n",
       "2                              45.0                      2288.4262  ...   \n",
       "3                            3315.2                      6913.1894  ...   \n",
       "4                               0.0                     70000.0000  ...   \n",
       "\n",
       "   number_5812  number_5814  number_5912  number_6012  lifetime  salary  \\\n",
       "0          0.0          0.0          1.0          0.0        16   88500   \n",
       "1          0.0          0.0          0.0          0.0        11   76589   \n",
       "2         15.0          4.0          9.0          0.0        24  334879   \n",
       "3          6.0          7.0          3.0          0.0        16  385000   \n",
       "4          0.0          0.0          0.0          0.0        16  100000   \n",
       "\n",
       "   MARITAL_STATUS_1  MARITAL_STATUS_2  MARITAL_STATUS_3  Total_income  \n",
       "0              True             False             False   1371.786105  \n",
       "1              True             False             False  14842.275266  \n",
       "2             False              True             False  36080.186387  \n",
       "3              True             False             False  98573.743919  \n",
       "4              True             False             False  71607.284518  \n",
       "\n",
       "[5 rows x 132 columns]"
      ]
     },
     "execution_count": 11,
     "metadata": {},
     "output_type": "execute_result"
    }
   ],
   "source": [
    "# df = pd.read_csv('Bank user data(generated by GPT).csv')\n",
    "# df = df_group1\n",
    "\n",
    "df = pd.read_csv('data.csv')\n",
    "df.head(5)"
   ]
  },
  {
   "cell_type": "code",
   "execution_count": 12,
   "metadata": {},
   "outputs": [
    {
     "data": {
      "text/plain": [
       "dict_keys(['finance', 'personal'])"
      ]
     },
     "execution_count": 12,
     "metadata": {},
     "output_type": "execute_result"
    }
   ],
   "source": [
    "selected_domain_features.keys()"
   ]
  },
  {
   "cell_type": "code",
   "execution_count": 10,
   "metadata": {},
   "outputs": [],
   "source": [
    "# X = df[selected_domain_features[\"behavioral\"]][30:60]\n",
    "# X.head()"
   ]
  },
  {
   "cell_type": "code",
   "execution_count": 11,
   "metadata": {},
   "outputs": [],
   "source": [
    "# X.dtypes"
   ]
  },
  {
   "cell_type": "code",
   "execution_count": 12,
   "metadata": {
    "scrolled": true
   },
   "outputs": [],
   "source": [
    "# optimizer = ClusteringOptimizer(X, category='behavioral', n_trials=100)\n",
    "# best_algorithm, best_params, best_score = optimizer.optimize_all()\n",
    "\n",
    "# print(\"----------------------------------------\")\n",
    "# print(f\"Best Algorithm: {best_algorithm}\")\n",
    "# print(f\"Best Parameters: {best_params}\")\n",
    "# print(f\"Best Silhouette Score: {best_score}\")\n",
    "\n",
    "# # Get the cluster labels from the best model\n",
    "# best_labels = optimizer.get_best_labels(best_algorithm)"
   ]
  },
  {
   "cell_type": "code",
   "execution_count": 14,
   "metadata": {
    "scrolled": true
   },
   "outputs": [
    {
     "name": "stdout",
     "output_type": "stream",
     "text": [
      "--------------------------------Category: finance--------------------------------------\n",
      "cpu\n"
     ]
    },
    {
     "ename": "ValueError",
     "evalue": "could not determine the shape of object type 'DataFrame'",
     "output_type": "error",
     "traceback": [
      "\u001b[1;31m---------------------------------------------------------------------------\u001b[0m",
      "\u001b[1;31mValueError\u001b[0m                                Traceback (most recent call last)",
      "\u001b[1;32m~\\AppData\\Local\\Temp\\ipykernel_1756\\815674782.py\u001b[0m in \u001b[0;36m<module>\u001b[1;34m\u001b[0m\n\u001b[0;32m      3\u001b[0m     \u001b[0mX\u001b[0m \u001b[1;33m=\u001b[0m \u001b[0mdf\u001b[0m\u001b[1;33m[\u001b[0m\u001b[0mselected_domain_features\u001b[0m\u001b[1;33m[\u001b[0m\u001b[0mkey\u001b[0m\u001b[1;33m]\u001b[0m\u001b[1;33m]\u001b[0m\u001b[1;33m\u001b[0m\u001b[1;33m\u001b[0m\u001b[0m\n\u001b[0;32m      4\u001b[0m \u001b[1;33m\u001b[0m\u001b[0m\n\u001b[1;32m----> 5\u001b[1;33m     \u001b[0moptimizer\u001b[0m \u001b[1;33m=\u001b[0m \u001b[0mClusteringOptimizer\u001b[0m\u001b[1;33m(\u001b[0m\u001b[0mX\u001b[0m\u001b[1;33m,\u001b[0m \u001b[0mcategory\u001b[0m\u001b[1;33m=\u001b[0m\u001b[0mkey\u001b[0m\u001b[1;33m,\u001b[0m \u001b[0mn_trials\u001b[0m\u001b[1;33m=\u001b[0m\u001b[1;36m100\u001b[0m\u001b[1;33m)\u001b[0m\u001b[1;33m\u001b[0m\u001b[1;33m\u001b[0m\u001b[0m\n\u001b[0m\u001b[0;32m      6\u001b[0m     \u001b[0mbest_algorithm\u001b[0m\u001b[1;33m,\u001b[0m \u001b[0mbest_params\u001b[0m\u001b[1;33m,\u001b[0m \u001b[0mbest_score\u001b[0m \u001b[1;33m=\u001b[0m \u001b[0moptimizer\u001b[0m\u001b[1;33m.\u001b[0m\u001b[0moptimize_all\u001b[0m\u001b[1;33m(\u001b[0m\u001b[1;33m)\u001b[0m\u001b[1;33m\u001b[0m\u001b[1;33m\u001b[0m\u001b[0m\n\u001b[0;32m      7\u001b[0m \u001b[1;33m\u001b[0m\u001b[0m\n",
      "\u001b[1;32m~\\Desktop\\Clustering\\utils_GPU.py\u001b[0m in \u001b[0;36m__init__\u001b[1;34m(self, X, category, n_clusters, n_trials)\u001b[0m\n\u001b[0;32m    381\u001b[0m         \u001b[0mself\u001b[0m\u001b[1;33m.\u001b[0m\u001b[0mdevice\u001b[0m \u001b[1;33m=\u001b[0m \u001b[0mtorch\u001b[0m\u001b[1;33m.\u001b[0m\u001b[0mdevice\u001b[0m\u001b[1;33m(\u001b[0m\u001b[1;34m'cuda'\u001b[0m \u001b[1;32mif\u001b[0m \u001b[0mtorch\u001b[0m\u001b[1;33m.\u001b[0m\u001b[0mcuda\u001b[0m\u001b[1;33m.\u001b[0m\u001b[0mis_available\u001b[0m\u001b[1;33m(\u001b[0m\u001b[1;33m)\u001b[0m \u001b[1;32melse\u001b[0m \u001b[1;34m'cpu'\u001b[0m\u001b[1;33m)\u001b[0m\u001b[1;33m\u001b[0m\u001b[1;33m\u001b[0m\u001b[0m\n\u001b[0;32m    382\u001b[0m         \u001b[0mprint\u001b[0m\u001b[1;33m(\u001b[0m\u001b[0mself\u001b[0m\u001b[1;33m.\u001b[0m\u001b[0mdevice\u001b[0m\u001b[1;33m)\u001b[0m\u001b[1;33m\u001b[0m\u001b[1;33m\u001b[0m\u001b[0m\n\u001b[1;32m--> 383\u001b[1;33m         \u001b[0mself\u001b[0m\u001b[1;33m.\u001b[0m\u001b[0mX\u001b[0m \u001b[1;33m=\u001b[0m \u001b[0mtorch\u001b[0m\u001b[1;33m.\u001b[0m\u001b[0mtensor\u001b[0m\u001b[1;33m(\u001b[0m\u001b[0mX\u001b[0m\u001b[1;33m,\u001b[0m \u001b[0mdtype\u001b[0m\u001b[1;33m=\u001b[0m\u001b[0mtorch\u001b[0m\u001b[1;33m.\u001b[0m\u001b[0mfloat32\u001b[0m\u001b[1;33m)\u001b[0m\u001b[1;33m.\u001b[0m\u001b[0mto\u001b[0m\u001b[1;33m(\u001b[0m\u001b[0mself\u001b[0m\u001b[1;33m.\u001b[0m\u001b[0mdevice\u001b[0m\u001b[1;33m)\u001b[0m\u001b[1;33m\u001b[0m\u001b[1;33m\u001b[0m\u001b[0m\n\u001b[0m\u001b[0;32m    384\u001b[0m         \u001b[0mself\u001b[0m\u001b[1;33m.\u001b[0m\u001b[0mX_scaled\u001b[0m \u001b[1;33m=\u001b[0m \u001b[1;33m(\u001b[0m\u001b[0mself\u001b[0m\u001b[1;33m.\u001b[0m\u001b[0mX\u001b[0m \u001b[1;33m-\u001b[0m \u001b[0mself\u001b[0m\u001b[1;33m.\u001b[0m\u001b[0mX\u001b[0m\u001b[1;33m.\u001b[0m\u001b[0mmean\u001b[0m\u001b[1;33m(\u001b[0m\u001b[1;36m0\u001b[0m\u001b[1;33m)\u001b[0m\u001b[1;33m)\u001b[0m \u001b[1;33m/\u001b[0m \u001b[0mself\u001b[0m\u001b[1;33m.\u001b[0m\u001b[0mX\u001b[0m\u001b[1;33m.\u001b[0m\u001b[0mstd\u001b[0m\u001b[1;33m(\u001b[0m\u001b[1;36m0\u001b[0m\u001b[1;33m)\u001b[0m\u001b[1;33m\u001b[0m\u001b[1;33m\u001b[0m\u001b[0m\n\u001b[0;32m    385\u001b[0m         \u001b[0mself\u001b[0m\u001b[1;33m.\u001b[0m\u001b[0mn_clusters\u001b[0m \u001b[1;33m=\u001b[0m \u001b[0mn_clusters\u001b[0m\u001b[1;33m\u001b[0m\u001b[1;33m\u001b[0m\u001b[0m\n",
      "\u001b[1;31mValueError\u001b[0m: could not determine the shape of object type 'DataFrame'"
     ]
    }
   ],
   "source": [
    "for key in selected_domain_features.keys():\n",
    "    print(f\"--------------------------------Category: {key}--------------------------------------\")\n",
    "    X = df[selected_domain_features[key]]\n",
    "\n",
    "    optimizer = ClusteringOptimizer(X, category=key, n_trials=100)\n",
    "    best_algorithm, best_params, best_score = optimizer.optimize_all()\n",
    "    \n",
    "    print(\"----------------------------------------\")\n",
    "    print(f\"Best Algorithm: {best_algorithm}\")\n",
    "    print(f\"Best Parameters: {best_params}\")\n",
    "    print(f\"Best Silhouette Score: {best_score}\")\n",
    "    \n",
    "    # Get the cluster labels from the best model\n",
    "    # best_labels = optimizer.get_best_labels(best_algorithm)"
   ]
  },
  {
   "cell_type": "code",
   "execution_count": null,
   "metadata": {},
   "outputs": [],
   "source": [
    "# param = {'init': 'k-means++', 'n_init': 14, 'max_iter': 262, 'tol': 1.8237019554389993e-05, 'n_clusters': 10}\n",
    "# best_kmeans = KMeans(**param, random_state=42)\n",
    "# best_labels = best_kmeans.fit_predict(df[selected_domain_features['finance']])\n",
    "\n",
    "# np.bincount(best_labels), silhouette_score(df[selected_domain_features['finance']], best_labels)"
   ]
  },
  {
   "cell_type": "code",
   "execution_count": null,
   "metadata": {},
   "outputs": [],
   "source": [
    "# np.bincount(best_labels)"
   ]
  },
  {
   "cell_type": "code",
   "execution_count": null,
   "metadata": {},
   "outputs": [],
   "source": [
    "# optimizer.best_params"
   ]
  },
  {
   "cell_type": "code",
   "execution_count": 14,
   "metadata": {},
   "outputs": [
    {
     "data": {
      "text/plain": [
       "{'kmeans': 0.42596448991915037,\n",
       " 'dbscan': -0.6816530355975762,\n",
       " 'hdbscan': -0.3985458579713627,\n",
       " 'agglomerative': 0.7657473617905386}"
      ]
     },
     "execution_count": 14,
     "metadata": {},
     "output_type": "execute_result"
    }
   ],
   "source": [
    "# optimizer.best_scores"
   ]
  },
  {
   "cell_type": "code",
   "execution_count": 11,
   "metadata": {},
   "outputs": [],
   "source": [
    "# optimizer.best_labels"
   ]
  },
  {
   "cell_type": "code",
   "execution_count": 16,
   "metadata": {},
   "outputs": [
    {
     "name": "stdout",
     "output_type": "stream",
     "text": [
      "kmeans\n",
      "\n",
      "Cluster Counts: [105 102 103 117 106 121 119 103 124]\n",
      "dbscan\n",
      "\n",
      "Cluster Counts: [629  16   3   5   6   5   4   6   6  10   6   4   3   4 293]\n",
      "hdbscan\n",
      "\n",
      "Cluster Counts: [ 19  21  22  20  19  25 129 745]\n",
      "agglomerative\n",
      "\n",
      "Cluster Counts: [ 27   7 802  53  16   2   5   1  87]\n"
     ]
    }
   ],
   "source": [
    "for x in optimizer.best_labels:\n",
    "    print(x)\n",
    "    print()\n",
    "\n",
    "    # print(f\"Best Labels: {optimizer.best_labels[x]}\")\n",
    "    # Count the number of data points in each cluster\n",
    "    label = optimizer.best_labels[x]\n",
    "    label[label == -1] = optimizer.best_labels[x].max() + 1\n",
    "    cluster_counts = np.bincount(label)\n",
    "    print(f\"Cluster Counts: {cluster_counts}\")"
   ]
  },
  {
   "cell_type": "code",
   "execution_count": null,
   "metadata": {},
   "outputs": [],
   "source": []
  }
 ],
 "metadata": {
  "kernelspec": {
   "display_name": "Python 3 (ipykernel)",
   "language": "python",
   "name": "python3"
  },
  "language_info": {
   "codemirror_mode": {
    "name": "ipython",
    "version": 3
   },
   "file_extension": ".py",
   "mimetype": "text/x-python",
   "name": "python",
   "nbconvert_exporter": "python",
   "pygments_lexer": "ipython3",
   "version": "3.9.20"
  }
 },
 "nbformat": 4,
 "nbformat_minor": 4
}
